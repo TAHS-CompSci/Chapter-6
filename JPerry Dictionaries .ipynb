{
 "cells": [
  {
   "cell_type": "code",
   "execution_count": 12,
   "metadata": {},
   "outputs": [
    {
     "name": "stdout",
     "output_type": "stream",
     "text": [
      "Jarod Perry\n",
      "14\n",
      "Tea\n",
      "Noah Therkelson\n",
      "15\n",
      "Sioux Falls\n"
     ]
    }
   ],
   "source": [
    "\n",
    " \n",
    "Jarod = {'Name': 'Jarod Perry', 'Age': '14', 'City': 'Tea'}\n",
    "\n",
    "print(Jarod['Name'])\n",
    "print(Jarod['Age'])\n",
    "print(Jarod['City'])\n",
    "\n",
    "Noah = {'Name': 'Noah Therkelson', 'Age': '15', 'City': 'Sioux Falls'} \n",
    "print(Noah['Name'])\n",
    "print(Noah['Age'])\n",
    "print(Noah['City'])\n",
    "    \n",
    "\n",
    "Glossary = {'Dictionary':'A dictionary in Python is a collection of key-value pairs.'' \n",
    "            'Each key is connected to a value, and you can use a key to access the value associated with that key. ' }\n"
   ]
  },
  {
   "cell_type": "code",
   "execution_count": 13,
   "metadata": {},
   "outputs": [
    {
     "data": {
      "text/plain": [
       "'Jarod Perry'"
      ]
     },
     "execution_count": 13,
     "metadata": {},
     "output_type": "execute_result"
    }
   ],
   "source": [
    "Jarod['Name']\n",
    "Noah_Number = {'Name': 'Noah Therkelson', '4'}"
   ]
  },
  {
   "cell_type": "code",
   "execution_count": 14,
   "metadata": {},
   "outputs": [
    {
     "data": {
      "text/plain": [
       "'14'"
      ]
     },
     "execution_count": 14,
     "metadata": {},
     "output_type": "execute_result"
    }
   ],
   "source": [
    "Jarod['Age']"
   ]
  },
  {
   "cell_type": "code",
   "execution_count": 15,
   "metadata": {},
   "outputs": [
    {
     "data": {
      "text/plain": [
       "'Tea'"
      ]
     },
     "execution_count": 15,
     "metadata": {},
     "output_type": "execute_result"
    }
   ],
   "source": [
    "Jarod['City']"
   ]
  },
  {
   "cell_type": "code",
   "execution_count": 1,
   "metadata": {},
   "outputs": [
    {
     "name": "stdout",
     "output_type": "stream",
     "text": [
      "My favorite number is 72\n",
      "Noah's favorite number is 100\n",
      "Kellen's favorite number is 100\n",
      "Jakob's favorite number is 54\n",
      "Adam's favorite number is 0\n"
     ]
    }
   ],
   "source": [
    "number_fav = {\n",
    "    'Jarod':72,\n",
    "    'Noah':100,\n",
    "    'Kellen':100,\n",
    "    'Jakob':54,\n",
    "    'Adam':0,\n",
    "}\n",
    "print('My favorite number is ' + str(number_fav['Jarod']))\n",
    "print(\"Noah's favorite number is \" + str(number_fav['Noah']))\n",
    "print(\"Kellen's favorite number is \" + str(number_fav['Kellen']))\n",
    "print(\"Jakob's favorite number is \" + str(number_fav['Jakob']))\n",
    "print(\"Adam's favorite number is \" + str(number_fav['Adam']))"
   ]
  },
  {
   "cell_type": "code",
   "execution_count": 2,
   "metadata": {},
   "outputs": [
    {
     "name": "stdout",
     "output_type": "stream",
     "text": [
      "Boolean Logic: Statement evaluates to true or false.\n",
      "Conditional Statement: if then statement.\n",
      "Iterable: A property of collections that are used to provide elements one at a time and in sequence .\n",
      "Sliced: Selecting a portion of a collection.\n",
      "Tuple: A native type in python that can store a collection but cannot assign new values to individual elements .\n"
     ]
    }
   ],
   "source": [
    "glossary = {\n",
    "    'Boolean Logic' : 'Statement evaluates to true or false',\n",
    "    'Conditional Statement':'if then statement',\n",
    "    'Iterable': 'A property of collections that are used to provide elements one at a time and in sequence ',\n",
    "    'Sliced':'Selecting a portion of a collection',\n",
    "    'Concatenation':'Attaching two things side-by-side, frequently strings of text',\n",
    "    'Tuple': 'A native type in python that can store a collection but cannot assign new values to individual elements ',\n",
    "}\n",
    "\n",
    "print('Boolean Logic: ' + glossary['Boolean Logic'] + '.')\n",
    "print('Conditional Statement: ' + glossary['Conditional Statement'] + '.')\n",
    "print('Iterable: ' + glossary['Iterable'] + '.')\n",
    "print('Sliced: ' + glossary['Sliced'] + '.')\n",
    "print('Tuple: ' + glossary['Tuple'] + '.')"
   ]
  },
  {
   "cell_type": "code",
   "execution_count": 3,
   "metadata": {},
   "outputs": [
    {
     "name": "stdout",
     "output_type": "stream",
     "text": [
      "\n",
      "Boolean Logic: Statement Evaluates To True Or False\n",
      "\n",
      "Conditional Statement: If Then Statement\n",
      "\n",
      "Iterable: A Property Of Collections That Are Used To Provide Elements One At A Time And In Sequence\n",
      "\n",
      "Sliced: Selecting A Portion Of A Collection\n",
      "\n",
      "Concatenation: Attaching Two Things Side-By-Side, Frequently Strings Of Text\n",
      "\n",
      "Tuple: A Native Type In Python That Can Store A Collection But Cannot Assign New Values To Individual Elements \n",
      "\n",
      "Namespace: The Set Of Variable And Function Names That Have Been Reserved By The Compiler/Interpreter\n",
      "\n",
      "Arguments: The Values That The Programmer Provides In The Function Call\n",
      "\n",
      "Default Value: The Value Of An Argument If The Function Is Called Without That Actual Argument\n"
     ]
    }
   ],
   "source": [
    "glossary_2 = {\n",
    "    'Boolean Logic' : 'Statement evaluates to true or false',\n",
    "    'Conditional Statement':'if then statement',\n",
    "    'Iterable': 'A property of collections that are used to provide elements one at a time and in sequence ',\n",
    "    'Sliced':'Selecting a portion of a collection',\n",
    "    'Concatenation':'Attaching two things side-by-side, frequently strings of text',\n",
    "    'Tuple': 'A native type in python that can store a collection but cannot assign new values to individual elements ',\n",
    "    'namespace':'The set of variable and function names that have been reserved by the compiler/interpreter',\n",
    "    'Arguments':'The values that the programmer provides in the function call',\n",
    "    'Default Value':'The value of an argument if the function is called without that actual argument',\n",
    "    'Iterable':'A property of collections that are used to provide elements one at a time and in sequence',\n",
    "}\n",
    "\n",
    "for keys, values in glossary_2.items():\n",
    "    print(\"\\n\" + keys.title() + ': ' + values.title())"
   ]
  },
  {
   "cell_type": "code",
   "execution_count": 5,
   "metadata": {},
   "outputs": [
    {
     "name": "stdout",
     "output_type": "stream",
     "text": [
      "The Mississipi River is located in United States\n",
      "The Missouri River is located in United States\n",
      "The Zambezi River is located in Africa\n"
     ]
    }
   ],
   "source": [
    "river = {\n",
    "    'Mississipi River':'United States',\n",
    "    'Missouri River':'United States',\n",
    "    'Zambezi River':'Africa',\n",
    "}\n",
    "for keys, values in river.items():\n",
    "    print('The ' + keys + ' is located in ' + values)"
   ]
  },
  {
   "cell_type": "code",
   "execution_count": 6,
   "metadata": {},
   "outputs": [
    {
     "name": "stdout",
     "output_type": "stream",
     "text": [
      "Thank you for taking our poll Jarod\n",
      "Thank you for taking our poll Noah\n",
      "Thank you for taking our poll Adam\n"
     ]
    }
   ],
   "source": [
    "favorite_languages = {\n",
    "    'Jarod':'python',\n",
    "    'Noah': \"python\",\n",
    "    'Adam':'Scratch',\n",
    "}\n",
    "for keys, values in favorite_languages.items():\n",
    "    if values == \" \":\n",
    "        print(keys.title() + ' Please take the poll')\n",
    "    else:\n",
    "        print('Thank you for taking our poll ' + keys.title())"
   ]
  },
  {
   "cell_type": "code",
   "execution_count": null,
   "metadata": {},
   "outputs": [],
   "source": []
  }
 ],
 "metadata": {
  "kernelspec": {
   "display_name": "Python 3",
   "language": "python",
   "name": "python3"
  },
  "language_info": {
   "codemirror_mode": {
    "name": "ipython",
    "version": 3
   },
   "file_extension": ".py",
   "mimetype": "text/x-python",
   "name": "python",
   "nbconvert_exporter": "python",
   "pygments_lexer": "ipython3",
   "version": "3.7.4"
  }
 },
 "nbformat": 4,
 "nbformat_minor": 2
}
