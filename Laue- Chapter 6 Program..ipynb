{
 "cells": [
  {
   "cell_type": "code",
   "execution_count": null,
   "metadata": {},
   "outputs": [],
   "source": [
    "\"\"\"\n",
    "Jesse Laue\n",
    "Final Program from Chapter 6\n",
    "This Python file includes one of teh five programs at the last part of Chapter 6\n",
    "\"\"\""
   ]
  },
  {
   "cell_type": "code",
   "execution_count": 14,
   "metadata": {},
   "outputs": [
    {
     "ename": "IndentationError",
     "evalue": "unexpected indent (<ipython-input-14-de8b3015a56c>, line 3)",
     "output_type": "error",
     "traceback": [
      "\u001b[1;36m  File \u001b[1;32m\"<ipython-input-14-de8b3015a56c>\"\u001b[1;36m, line \u001b[1;32m3\u001b[0m\n\u001b[1;33m    = {\u001b[0m\n\u001b[1;37m    ^\u001b[0m\n\u001b[1;31mIndentationError\u001b[0m\u001b[1;31m:\u001b[0m unexpected indent\n"
     ]
    }
   ],
   "source": []
  },
  {
   "cell_type": "code",
   "execution_count": 25,
   "metadata": {},
   "outputs": [
    {
     "name": "stdout",
     "output_type": "stream",
     "text": [
      "kellen favorite numbers are \n",
      " 100 240 55 \n",
      "jesse favorite numbers are \n",
      " 68 419 42 \n",
      "dray favorite numbers are \n",
      " 13 7 21 \n",
      "jayrod favorite numbers are \n",
      " 82 105 937654897432987 \n"
     ]
    }
   ],
   "source": [
    "#6-12\n",
    "\n",
    "favorite_number = {\n",
    "    'kellen': [100, 240, 55],\n",
    "    'jesse': [68,419, 42],\n",
    "    'dray': [13, 7, 21],\n",
    "    'jayrod': [82, 105, 937654897432987],\n",
    "}\n",
    "\n",
    "for name, num in favorite_number.items():\n",
    "    m = ''\n",
    "    for x in num:\n",
    "        m += str(x) + ' '\n",
    "    print('{} favorite numbers are \\n {}'.format(name,m))\n",
    "        \n",
    "               "
   ]
  },
  {
   "cell_type": "code",
   "execution_count": null,
   "metadata": {},
   "outputs": [],
   "source": []
  }
 ],
 "metadata": {
  "kernelspec": {
   "display_name": "Python 3",
   "language": "python",
   "name": "python3"
  },
  "language_info": {
   "codemirror_mode": {
    "name": "ipython",
    "version": 3
   },
   "file_extension": ".py",
   "mimetype": "text/x-python",
   "name": "python",
   "nbconvert_exporter": "python",
   "pygments_lexer": "ipython3",
   "version": "3.7.4"
  }
 },
 "nbformat": 4,
 "nbformat_minor": 2
}
