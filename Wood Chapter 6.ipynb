{
 "cells": [
  {
   "cell_type": "code",
   "execution_count": 1,
   "metadata": {},
   "outputs": [
    {
     "name": "stdout",
     "output_type": "stream",
     "text": [
      "hi my names Adam Wood\n",
      "im from Tea SD\n",
      "and i was born on March 16th 2004\n"
     ]
    }
   ],
   "source": [
    "Adam_Wood = {'first name': 'Adam', 'Last name': 'Wood', 'home': 'Tea SD', 'date of birth': 'March 16th 2004'}\n",
    "\n",
    "print('hi my names ' + str(Adam_Wood['first name']) +' '+ (Adam_Wood['Last name']) )\n",
    "\n",
    "print('im from ' + str(Adam_Wood['home']))\n",
    "\n",
    "print('and i was born on ' + str(Adam_Wood['date of birth']))"
   ]
  },
  {
   "cell_type": "code",
   "execution_count": 2,
   "metadata": {},
   "outputs": [
    {
     "name": "stdout",
     "output_type": "stream",
     "text": [
      "hi my names bob my favorite number is 42\n",
      "hi my names billy my favorite number is 420\n",
      "hi my names terry my favorite number is 33\n",
      "hi my names frank my favorite number is 22\n",
      "hi my names barry my favorite number is 24\n"
     ]
    }
   ],
   "source": [
    "fav_number = {'bob': 42, 'billy': 420, 'terry': 33, 'frank': 22, 'barry': 24}\n",
    "\n",
    "print('hi my names bob my favorite number is ' + str(fav_number['bob'])  )\n",
    "print('hi my names billy my favorite number is ' + str(fav_number['billy'])  )\n",
    "print('hi my names terry my favorite number is ' + str(fav_number['terry'])  )\n",
    "print('hi my names frank my favorite number is ' + str(fav_number['frank'])  )\n",
    "print('hi my names barry my favorite number is ' + str(fav_number['barry'])  )"
   ]
  },
  {
   "cell_type": "code",
   "execution_count": 3,
   "metadata": {},
   "outputs": [
    {
     "name": "stdout",
     "output_type": "stream",
     "text": [
      "string: any finite sequence of characters\n",
      "variable: a storage location that is named and cantains a value\n",
      "boolean: data type that is true or false\n",
      "algorithm: a set of instructions designed to perform a task\n",
      "computer program: a set of instructions designed to perform a task executed by a computer\n"
     ]
    }
   ],
   "source": [
    "Glossary = {'string': 'any finite sequence of characters','variable': 'a storage location that is named and cantains a value',\n",
    "'boolean': 'data type that is true or false',  'algorithm': 'a set of instructions designed to perform a task',\n",
    " 'computer program': 'a set of instructions designed to perform a task executed by a computer'         }\n",
    "\n",
    "print('string' + ': ' + str(Glossary['string']))\n",
    "print('variable' + ': ' + str(Glossary['variable']))\n",
    "print('boolean' + ': ' + str(Glossary['boolean']))\n",
    "print('algorithm' + ': ' + str(Glossary['algorithm']))\n",
    "print('computer program' + ': ' + str(Glossary['computer program']))"
   ]
  },
  {
   "cell_type": "code",
   "execution_count": null,
   "metadata": {},
   "outputs": [],
   "source": [
    "Adam_Wood = {'first name': 'Adam', 'Last name': 'Wood', 'home': 'Tea SD', 'date of birth': 'March 16th 2004'}\n",
    "\n",
    "for name, info in Adam_Wood.items():\n",
    "    print('my '+ name.title()+ \" is \" + info.title()+ '.')"
   ]
  },
  {
   "cell_type": "code",
   "execution_count": 4,
   "metadata": {},
   "outputs": [
    {
     "name": "stdout",
     "output_type": "stream",
     "text": [
      "Adam W favorite language is Scratch.\n",
      "Adam E favorite language is Scratch.\n",
      "Bob favorite language is C++.\n"
     ]
    }
   ],
   "source": [
    "Favorite_languages = {'Adam W': 'scratch', 'Adam E': 'scratch','bob': 'c++'}\n",
    "for name, language in Favorite_languages.items():\n",
    "    print( name.title()+ \" favorite language is \" + language.title()+'.')"
   ]
  },
  {
   "cell_type": "code",
   "execution_count": null,
   "metadata": {},
   "outputs": [],
   "source": []
  }
 ],
 "metadata": {
  "kernelspec": {
   "display_name": "Python 3",
   "language": "python",
   "name": "python3"
  },
  "language_info": {
   "codemirror_mode": {
    "name": "ipython",
    "version": 3
   },
   "file_extension": ".py",
   "mimetype": "text/x-python",
   "name": "python",
   "nbconvert_exporter": "python",
   "pygments_lexer": "ipython3",
   "version": "3.7.4"
  }
 },
 "nbformat": 4,
 "nbformat_minor": 2
}
