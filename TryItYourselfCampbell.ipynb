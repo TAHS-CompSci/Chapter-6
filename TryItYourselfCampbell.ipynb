{
 "cells": [
  {
   "cell_type": "code",
   "execution_count": 1,
   "metadata": {},
   "outputs": [
    {
     "data": {
      "text/plain": [
       "5"
      ]
     },
     "execution_count": 1,
     "metadata": {},
     "output_type": "execute_result"
    }
   ],
   "source": [
    "6-1"
   ]
  },
  {
   "cell_type": "code",
   "execution_count": 6,
   "metadata": {},
   "outputs": [
    {
     "name": "stdout",
     "output_type": "stream",
     "text": [
      "My Brother's Name Is Vinny.\n"
     ]
    }
   ],
   "source": [
    "Information = {\n",
    "    'FirstName': 'Vinny',\n",
    "    'LastName': 'Campbell',\n",
    "    'Age':'20',\n",
    "    'City': 'Agustana',}\n",
    "    \n",
    "print(\"My Brother's Name Is \" +      \n",
    "       Information['FirstName'].title() +      \n",
    "       \".\")"
   ]
  },
  {
   "cell_type": "code",
   "execution_count": 5,
   "metadata": {},
   "outputs": [
    {
     "name": "stdout",
     "output_type": "stream",
     "text": [
      "My Brother's Last Name Is Campbell.\n"
     ]
    }
   ],
   "source": [
    "    \n",
    "print(\"My Brother's Last Name Is \" +      \n",
    "       Information['LastName'].title() +      \n",
    "       \".\")"
   ]
  },
  {
   "cell_type": "code",
   "execution_count": 7,
   "metadata": {},
   "outputs": [
    {
     "name": "stdout",
     "output_type": "stream",
     "text": [
      "My Brother's Age Is 20.\n"
     ]
    }
   ],
   "source": [
    "print(\"My Brother's Age Is \" +      \n",
    "       Information['Age'].title() +      \n",
    "       \".\")"
   ]
  },
  {
   "cell_type": "code",
   "execution_count": 8,
   "metadata": {},
   "outputs": [
    {
     "name": "stdout",
     "output_type": "stream",
     "text": [
      "My Brother's City Is Agustana.\n"
     ]
    }
   ],
   "source": [
    "print(\"My Brother's City Is \" +      \n",
    "       Information['City'].title() +      \n",
    "       \".\")"
   ]
  },
  {
   "cell_type": "code",
   "execution_count": 9,
   "metadata": {},
   "outputs": [
    {
     "data": {
      "text/plain": [
       "4"
      ]
     },
     "execution_count": 9,
     "metadata": {},
     "output_type": "execute_result"
    }
   ],
   "source": [
    "6-2"
   ]
  },
  {
   "cell_type": "code",
   "execution_count": 10,
   "metadata": {},
   "outputs": [],
   "source": [
    "Fav_Number = {\n",
    "    'Jessi': '214',\n",
    "    'John': '420',\n",
    "    'Hue':'20',\n",
    "    'Noah': '4',\n",
    "    'Dray' : '13'}\n",
    "    "
   ]
  },
  {
   "cell_type": "code",
   "execution_count": 17,
   "metadata": {},
   "outputs": [
    {
     "name": "stdout",
     "output_type": "stream",
     "text": [
      " Jessi's Fav Number Is 214.\n"
     ]
    }
   ],
   "source": [
    "print(\" Jessi's Fav Number Is \" +      \n",
    "       Fav_Number['Jessi'].title() +      \n",
    "       \".\")"
   ]
  },
  {
   "cell_type": "code",
   "execution_count": 20,
   "metadata": {},
   "outputs": [
    {
     "name": "stdout",
     "output_type": "stream",
     "text": [
      "John Fav Number Is 420.\n"
     ]
    }
   ],
   "source": [
    "print(\"John Fav Number Is \" +      \n",
    "      Fav_Number ['John'].title() +      \n",
    "       \".\")"
   ]
  },
  {
   "cell_type": "code",
   "execution_count": 18,
   "metadata": {},
   "outputs": [
    {
     "name": "stdout",
     "output_type": "stream",
     "text": [
      "Hue's Fav Number Is 20.\n"
     ]
    }
   ],
   "source": [
    "print(\"Hue's Fav Number Is \" +      \n",
    "       Fav_Number['Hue'].title() +      \n",
    "       \".\")"
   ]
  },
  {
   "cell_type": "code",
   "execution_count": 21,
   "metadata": {},
   "outputs": [
    {
     "name": "stdout",
     "output_type": "stream",
     "text": [
      "Naoh's Fav Number Is 4.\n"
     ]
    }
   ],
   "source": [
    "print(\"Naoh's Fav Number Is \" +      \n",
    "       Fav_Number['Noah'].title() +      \n",
    "       \".\")"
   ]
  },
  {
   "cell_type": "code",
   "execution_count": 22,
   "metadata": {},
   "outputs": [
    {
     "name": "stdout",
     "output_type": "stream",
     "text": [
      "Dray's Fav Number Is 13.\n"
     ]
    }
   ],
   "source": [
    "print(\"Dray's Fav Number Is \" +      \n",
    "       Fav_Number['Dray'].title() +      \n",
    "       \".\")"
   ]
  },
  {
   "cell_type": "code",
   "execution_count": 23,
   "metadata": {},
   "outputs": [
    {
     "data": {
      "text/plain": [
       "3"
      ]
     },
     "execution_count": 23,
     "metadata": {},
     "output_type": "execute_result"
    }
   ],
   "source": [
    "6-3"
   ]
  },
  {
   "cell_type": "code",
   "execution_count": 26,
   "metadata": {},
   "outputs": [],
   "source": [
    "Dict_Def = {\n",
    "    'Dictionary': 'Dictionaty: dictionary is wrapped in braces, {}, with a series of keyvalue pairs inside the braces',\n",
    "    'Value': 'Value: A word/term asssoicated with a function/key',\n",
    "    'In-Put': 'In-Put: What the user/programer puts in that gets manipulated/changed from the code',\n",
    "    'Out-put' : 'Out-Put: What the user/progermer gets from a coding program',\n",
    "    'key': 'Key: Each key is connected to a value, and you can use a key to access the value associated with that key. '}\n",
    "\n"
   ]
  },
  {
   "cell_type": "code",
   "execution_count": 31,
   "metadata": {},
   "outputs": [
    {
     "name": "stdout",
     "output_type": "stream",
     "text": [
      "The Definition Of  Dictionary Is Wrapped In Braces, {}, With A Series Of Keyvalue Pairs Inside The Braces.\n"
     ]
    }
   ],
   "source": [
    "print(\"The Definition Of \" +      \n",
    "       Dict_Def['Dictionary'].title() +      \n",
    "       \".\")"
   ]
  },
  {
   "cell_type": "code",
   "execution_count": 34,
   "metadata": {},
   "outputs": [
    {
     "name": "stdout",
     "output_type": "stream",
     "text": [
      "The Definition Of What The User/Progermer Gets From A Coding Program.\n"
     ]
    }
   ],
   "source": [
    "print(\"The Definition Of \" +      \n",
    "       Dict_Def['Out-put'].title() +      \n",
    "       \".\")"
   ]
  },
  {
   "cell_type": "code",
   "execution_count": 32,
   "metadata": {},
   "outputs": [
    {
     "name": "stdout",
     "output_type": "stream",
     "text": [
      "The Definition Of A Word/Term Asssoicated With A Function/Key.\n"
     ]
    }
   ],
   "source": [
    "print(\"The Definition Of \" +      \n",
    "       Dict_Def['Value'].title() +      \n",
    "       \".\")"
   ]
  },
  {
   "cell_type": "code",
   "execution_count": 33,
   "metadata": {},
   "outputs": [
    {
     "name": "stdout",
     "output_type": "stream",
     "text": [
      "The Definition Of What The User/Programer Puts In That Gets Manipulated/Changed From The Code.\n"
     ]
    }
   ],
   "source": [
    "print(\"The Definition Of \" +      \n",
    "       Dict_Def['In-Put'].title() +      \n",
    "       \".\")"
   ]
  },
  {
   "cell_type": "code",
   "execution_count": 35,
   "metadata": {},
   "outputs": [
    {
     "name": "stdout",
     "output_type": "stream",
     "text": [
      "The Definition Of Each Key Is Connected To A Value, And You Can Use A Key To Access The Value Associated With That Key. .\n"
     ]
    }
   ],
   "source": [
    "print(\"The Definition Of \" +      \n",
    "       Dict_Def['key'].title() +      \n",
    "       \".\")"
   ]
  },
  {
   "cell_type": "code",
   "execution_count": 1,
   "metadata": {
    "scrolled": true
   },
   "outputs": [
    {
     "data": {
      "text/plain": [
       "2"
      ]
     },
     "execution_count": 1,
     "metadata": {},
     "output_type": "execute_result"
    }
   ],
   "source": [
    "6-4"
   ]
  },
  {
   "cell_type": "code",
   "execution_count": 30,
   "metadata": {
    "scrolled": true
   },
   "outputs": [
    {
     "name": "stdout",
     "output_type": "stream",
     "text": [
      "DictionaryDictionaty: Dictionary Is Wrapped In Braces, {}, With A Series Of Keyvalue Pairs Inside The Braces!\n",
      "ValueValue: A Word/Term Asssoicated With A Function/Key!\n",
      "In-PutIn-Put: What The User/Programer Puts In That Gets Manipulated/Changed From The Code!\n",
      "Out-PutOut-Put: What The User/Progermer Gets From A Coding Program!\n",
      "KeyKey: Each Key Is Connected To A Value, And You Can Use A Key To Access The Value Associated With That Key. !\n",
      "LoopLoop: Repets A String Of Code Till Told Other Wise!\n",
      "IndentationIndentation: The Nessiaary Spacing Between Code For Tree Based Structures!\n",
      "SetSet: Warps Around A Group Of Items & Dupiliates Them!\n",
      "PythonPython: A Type Of Coding Language That Has Many Versions, Its Current Version Is 3!\n",
      "JupyterJupyter Notebook: A Program That Places Coding Into Itself & Can Be Exported!\n"
     ]
    }
   ],
   "source": [
    "Definitions = {\n",
    "    'Dictionary': 'Dictionaty: dictionary is wrapped in braces, {}, with a series of keyvalue pairs inside the braces',\n",
    "    'Value': 'Value: A word/term asssoicated with a function/key',\n",
    "    'In-Put': 'In-Put: What the user/programer puts in that gets manipulated/changed from the code',\n",
    "    'Out-put' : 'Out-Put: What the user/progermer gets from a coding program',\n",
    "    'key': 'Key: Each key is connected to a value, and you can use a key to access the value associated with that key. ',\n",
    "    'loop':'loop: repets a string of code till told other wise',\n",
    "    'indentation' : 'Indentation: the nessiaary spacing between code for tree based structures',\n",
    "    'set':'Set: warps around a group of items & dupiliates them',\n",
    "    'python' : 'Python: A type of coding language that has many versions, its current version is 3',\n",
    "    'jupyter' : 'Jupyter Notebook: A program that places coding into itself & can be exported', }\n",
    "\n",
    "for name in (Definitions.keys()): \n",
    "        print(name.title() +\n",
    "            Definitions[name].title() + \"!\")"
   ]
  },
  {
   "cell_type": "code",
   "execution_count": 31,
   "metadata": {},
   "outputs": [
    {
     "data": {
      "text/plain": [
       "1"
      ]
     },
     "execution_count": 31,
     "metadata": {},
     "output_type": "execute_result"
    }
   ],
   "source": [
    "6-5"
   ]
  },
  {
   "cell_type": "code",
   "execution_count": 39,
   "metadata": {},
   "outputs": [
    {
     "name": "stdout",
     "output_type": "stream",
     "text": [
      "Nile runs through Egypt  !\n",
      "Ganges runs through India!\n",
      "Amazon runs through Brazil!\n"
     ]
    }
   ],
   "source": [
    "Rivers = {\n",
    "    'nile ': ' Egypt  ',\n",
    "    'Ganges ': ' india',\n",
    "    'Amazon ': ' Brazil' }\n",
    "\n",
    "for name in (Rivers.keys()): \n",
    "        print(name.title() + 'runs through' +\n",
    "            Rivers[name].title() +  \"!\")"
   ]
  },
  {
   "cell_type": "code",
   "execution_count": 41,
   "metadata": {},
   "outputs": [
    {
     "name": "stdout",
     "output_type": "stream",
     "text": [
      "Nile \n",
      "Ganges \n",
      "Amazon \n"
     ]
    }
   ],
   "source": [
    "for name in (Rivers.keys()): \n",
    "        print(name.title())"
   ]
  },
  {
   "cell_type": "code",
   "execution_count": 46,
   "metadata": {},
   "outputs": [
    {
     "name": "stdout",
     "output_type": "stream",
     "text": [
      " Egypt  \n",
      " India\n",
      " Brazil\n"
     ]
    }
   ],
   "source": [
    "for name in (Rivers.keys()): \n",
    "      print (Rivers[name].title())"
   ]
  },
  {
   "cell_type": "code",
   "execution_count": 47,
   "metadata": {},
   "outputs": [
    {
     "data": {
      "text/plain": [
       "0"
      ]
     },
     "execution_count": 47,
     "metadata": {},
     "output_type": "execute_result"
    }
   ],
   "source": [
    "6-6"
   ]
  },
  {
   "cell_type": "code",
   "execution_count": 59,
   "metadata": {},
   "outputs": [
    {
     "name": "stdout",
     "output_type": "stream",
     "text": [
      "Jen's favorite language is Python.\n",
      "Sarah's favorite language is C.\n",
      "Edward's favorite language is Ruby.\n",
      "Phil's favorite language is Python.\n",
      "John's favorite language is Python 3.\n",
      "Garret's favorite language is Honestly Cant Deceide.\n",
      "Garret s do the poll\n"
     ]
    }
   ],
   "source": [
    "favorite_languages = {    \n",
    "    'jen': 'python',    \n",
    "    'sarah': 'c',    \n",
    "    'edward': 'ruby',    \n",
    "    'phil': 'python',\n",
    "    'John':'python 3',\n",
    "    'Garret':'honestly cant deceide' }\n",
    "\n",
    "for name, language in favorite_languages.items(): \n",
    "    print(name.title() + \"'s favorite language is \" + \n",
    "          language.title() + \".\")\n",
    "    \n",
    "if 'Noah' not in favorite_languages.keys():    \n",
    "    print(name.title(),  ' do the poll')\n"
   ]
  },
  {
   "cell_type": "code",
   "execution_count": 60,
   "metadata": {},
   "outputs": [
    {
     "data": {
      "text/plain": [
       "-4"
      ]
     },
     "execution_count": 60,
     "metadata": {},
     "output_type": "execute_result"
    }
   ],
   "source": [
    "6-10"
   ]
  },
  {
   "cell_type": "code",
   "execution_count": 71,
   "metadata": {},
   "outputs": [
    {
     "name": "stdout",
     "output_type": "stream",
     "text": [
      "Jessi's favorite numbers is 219, 98.\n",
      "John's favorite numbers is 420, 209.\n",
      "Hue's favorite numbers is 20, 12.\n",
      "Noah's favorite numbers is 4, 18.\n",
      "Dray's favorite numbers is 13, 12.\n"
     ]
    }
   ],
   "source": [
    "Fav_Number = {\n",
    "    'Jessi': '219, 98',\n",
    "    'John': '420, 209',\n",
    "    'Hue':'20, 12',\n",
    "    'Noah': '4, 18', \n",
    "    'Dray' : '13, 12',  }\n",
    "\n",
    "for name, Number in Fav_Number.items(): \n",
    "    print(name.title() + \"'s favorite numbers is \" + \n",
    "          Fav_Number[name] + \".\")"
   ]
  },
  {
   "cell_type": "code",
   "execution_count": null,
   "metadata": {},
   "outputs": [],
   "source": []
  }
 ],
 "metadata": {
  "kernelspec": {
   "display_name": "Python 3",
   "language": "python",
   "name": "python3"
  },
  "language_info": {
   "codemirror_mode": {
    "name": "ipython",
    "version": 3
   },
   "file_extension": ".py",
   "mimetype": "text/x-python",
   "name": "python",
   "nbconvert_exporter": "python",
   "pygments_lexer": "ipython3",
   "version": "3.7.4"
  }
 },
 "nbformat": 4,
 "nbformat_minor": 2
}
