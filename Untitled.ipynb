{
 "cells": [
  {
   "cell_type": "markdown",
   "metadata": {},
   "source": [
    "favorite_number therkelsen.py"
   ]
  },
  {
   "cell_type": "code",
   "execution_count": null,
   "metadata": {},
   "outputs": [],
   "source": []
  },
  {
   "cell_type": "code",
   "execution_count": 1,
   "metadata": {},
   "outputs": [
    {
     "name": "stdout",
     "output_type": "stream",
     "text": [
      "Jen's favorite number is 420, 120.\n",
      "Sarah's favorite number is 12, 12.\n",
      "Edward's favorite number is 13, 14.\n",
      "Phil's favorite number is 689-2345, 2345.\n",
      "Isaac's favorite number is 1245, 876.\n",
      "Noah's favorite number is 4, 69.\n",
      "Adam's favorite number is 68+1, 70-1.\n"
     ]
    }
   ],
   "source": [
    "fav_Number = {\n",
    "    'jen': '420, 120',\n",
    "    'sarah': '12, 12',\n",
    "    'edward': '13, 14',\n",
    "    'phil': '689-2345, 2345',\n",
    "    'isaac': '1245, 876',\n",
    "    'Noah': '4, 69',\n",
    "    'adam': '68+1, 70-1',  }\n",
    "for name, Number in fav_Number.items():\n",
    "        print(name.title() + \"'s favorite number is \" +\n",
    "        fav_Number[name] + \".\")"
   ]
  },
  {
   "cell_type": "code",
   "execution_count": null,
   "metadata": {},
   "outputs": [],
   "source": []
  }
 ],
 "metadata": {
  "kernelspec": {
   "display_name": "Python 3",
   "language": "python",
   "name": "python3"
  },
  "language_info": {
   "codemirror_mode": {
    "name": "ipython",
    "version": 3
   },
   "file_extension": ".py",
   "mimetype": "text/x-python",
   "name": "python",
   "nbconvert_exporter": "python",
   "pygments_lexer": "ipython3",
   "version": "3.7.4"
  }
 },
 "nbformat": 4,
 "nbformat_minor": 2
}
