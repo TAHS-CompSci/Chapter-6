{
 "cells": [
  {
   "cell_type": "code",
   "execution_count": null,
   "metadata": {},
   "outputs": [],
   "source": [
    "\"\"\"\n",
    "Jesse Laue\n",
    "Final Program from Chapter 6\n",
    "This Python file includes one of teh five programs at the last part of Chapter 6\n",
    "\"\"\""
   ]
  },
  {
   "cell_type": "code",
   "execution_count": null,
   "metadata": {},
   "outputs": [],
   "source": [
    "#6-2 Favorite Numbers\n",
    "\n",
    "favorite_numbas = {\n",
    "    'Kellen': '100',\n",
    "    'Jesse': '214',\n",
    "    'Dray': '13'\n",
    "}\n",
    "\n",
    "print(favorite_numbas['Kellen'])"
   ]
  },
  {
   "cell_type": "code",
   "execution_count": 4,
   "metadata": {},
   "outputs": [
    {
     "ename": "SyntaxError",
     "evalue": "EOL while scanning string literal (<ipython-input-4-893448701e40>, line 14)",
     "output_type": "error",
     "traceback": [
      "\u001b[1;36m  File \u001b[1;32m\"<ipython-input-4-893448701e40>\"\u001b[1;36m, line \u001b[1;32m14\u001b[0m\n\u001b[1;33m    print (\"\\n + \\t + name.title() + \" 's favorite numbers are: \"):\u001b[0m\n\u001b[1;37m                                                                   ^\u001b[0m\n\u001b[1;31mSyntaxError\u001b[0m\u001b[1;31m:\u001b[0m EOL while scanning string literal\n"
     ]
    }
   ],
   "source": [
    "#6-12\n",
    "\n",
    "favorite_numbas:{\n",
    "    'kellen': [100, 240, 55],\n",
    "    'jesse': [68,419, 42],\n",
    "    'dray': [13, 7, 21],\n",
    "    'jayrod': [82, 105, 937654897432987],\n",
    "}\n",
    "\n",
    "for name in favorite_numba.items():\n",
    "    print(name)\n",
    "    \n",
    "    for name in favorite_numbas.items():\n",
    "        print (\"\\n + \\t + name.title() + \" 's favorite numbers are: \"):\n",
    "        for number in numbers:\n",
    "               print(\"\\t + number \")\n",
    "               "
   ]
  },
  {
   "cell_type": "code",
   "execution_count": null,
   "metadata": {},
   "outputs": [],
   "source": []
  }
 ],
 "metadata": {
  "kernelspec": {
   "display_name": "Python 3",
   "language": "python",
   "name": "python3"
  },
  "language_info": {
   "codemirror_mode": {
    "name": "ipython",
    "version": 3
   },
   "file_extension": ".py",
   "mimetype": "text/x-python",
   "name": "python",
   "nbconvert_exporter": "python",
   "pygments_lexer": "ipython3",
   "version": "3.7.4"
  }
 },
 "nbformat": 4,
 "nbformat_minor": 2
}
