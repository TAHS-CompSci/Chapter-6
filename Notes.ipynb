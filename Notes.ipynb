{
 "cells": [
  {
   "cell_type": "code",
   "execution_count": 11,
   "metadata": {},
   "outputs": [],
   "source": [
    "#A dictionary in Python is a collection of key-value pairs. Each key is connected\n",
    "#to a value, and you can use a key to access the value associated with that key\n",
    "\n",
    "#a dictionary is wrapped in braces, {}, with a series of keyvalue pairs inside the braces\n",
    "\n",
    "#Bellow is the color of points in a game & the amoun of point"
   ]
  },
  {
   "cell_type": "code",
   "execution_count": 4,
   "metadata": {},
   "outputs": [],
   "source": [
    "alien_0 = {'color': 'green', 'points': 5}\n",
    "new_points = alien_o['points']\n",
    "print(\"You just earned\" +str(new_points)+ \"points!\")"
   ]
  },
  {
   "cell_type": "code",
   "execution_count": 5,
   "metadata": {},
   "outputs": [
    {
     "ename": "SyntaxError",
     "evalue": "invalid syntax (<ipython-input-5-069bbc7986ba>, line 2)",
     "output_type": "error",
     "traceback": [
      "\u001b[1;36m  File \u001b[1;32m\"<ipython-input-5-069bbc7986ba>\"\u001b[1;36m, line \u001b[1;32m2\u001b[0m\n\u001b[1;33m    bellow is an example of the position of a sprite in a game\u001b[0m\n\u001b[1;37m                       ^\u001b[0m\n\u001b[1;31mSyntaxError\u001b[0m\u001b[1;31m:\u001b[0m invalid syntax\n"
     ]
    }
   ],
   "source": [
    "#Dictionsaries are used to make dynamic structures, & you can add new key-value pairs to a dicitonary at any time\"\n",
    "#bellow is an example of the position of a sprite in a game"
   ]
  },
  {
   "cell_type": "code",
   "execution_count": 8,
   "metadata": {},
   "outputs": [
    {
     "name": "stdout",
     "output_type": "stream",
     "text": [
      "{'color': 'green', 'points': 5}\n",
      "{'color': 'green', 'points': 5, 'x_postion': 0, 'y_postion': 25}\n"
     ]
    }
   ],
   "source": [
    "alien_0 = {'color': 'green', 'points': 5}\n",
    "print(alien_0)\n",
    "\n",
    "alien_0['x_postion'] =  0\n",
    "alien_0['y_postion'] = 25\n",
    "print(alien_0)"
   ]
  },
  {
   "cell_type": "code",
   "execution_count": 9,
   "metadata": {},
   "outputs": [
    {
     "ename": "SyntaxError",
     "evalue": "EOL while scanning string literal (<ipython-input-9-fb27a5e1d8e6>, line 1)",
     "output_type": "error",
     "traceback": [
      "\u001b[1;36m  File \u001b[1;32m\"<ipython-input-9-fb27a5e1d8e6>\"\u001b[1;36m, line \u001b[1;32m1\u001b[0m\n\u001b[1;33m    \"To modify a value in a dictionary, give the name of the dictionary with the key in square brackets\u001b[0m\n\u001b[1;37m                                                                                                       ^\u001b[0m\n\u001b[1;31mSyntaxError\u001b[0m\u001b[1;31m:\u001b[0m EOL while scanning string literal\n"
     ]
    }
   ],
   "source": [
    "#To modify a value in a dictionary, give the name of the dictionary with the key in square brackets\n",
    "#and then the new value you want associated with that key. \n",
    "#example given bellow"
   ]
  },
  {
   "cell_type": "code",
   "execution_count": 10,
   "metadata": {},
   "outputs": [
    {
     "name": "stdout",
     "output_type": "stream",
     "text": [
      "The alien is green.\n",
      "The alien is now yellow.\n"
     ]
    }
   ],
   "source": [
    "alien_0 = {'color': 'green'} \n",
    "print(\"The alien is \" + alien_0['color'] + \".\")\n",
    "\n",
    "alien_0['color'] = 'yellow' \n",
    "print(\"The alien is now \" + alien_0['color'] + \".\")"
   ]
  },
  {
   "cell_type": "code",
   "execution_count": 12,
   "metadata": {},
   "outputs": [],
   "source": [
    "#examaple two"
   ]
  },
  {
   "cell_type": "code",
   "execution_count": 16,
   "metadata": {},
   "outputs": [
    {
     "name": "stdout",
     "output_type": "stream",
     "text": [
      "Original x-position: 0\n",
      "New x-position: 0\n"
     ]
    }
   ],
   "source": [
    "alien_0 = {'x_position': 0, 'y_position': 25, 'speed': 'medium'} \n",
    "#speed that is above this, changes the x_incrementation\n",
    "print(\"Original x-position: \" + str(alien_0['x_position']))\n",
    "\n",
    "# Move the alien to the right. \n",
    "# Determine how far to move the alien based on its current speed. \n",
    "if alien_0['speed'] == 'slow':    \n",
    "    x_increment = 1 \n",
    "elif alien_0['speed'] == 'medium':    \n",
    "    x_increment = 2 \n",
    "else:    \n",
    "        # This must be a fast alien.    \n",
    "    x_increment = 3\n",
    "# The new position is the old position plus the increment. v alien_0['x_position'] = alien_0['x_position'] + x_increment\n",
    "print(\"New x-position: \" + str(alien_0['x_position']))\n"
   ]
  },
  {
   "cell_type": "code",
   "execution_count": 17,
   "metadata": {},
   "outputs": [],
   "source": [
    "#this allows for the alien to move more pixels based on speed & the x_increment variable"
   ]
  },
  {
   "cell_type": "code",
   "execution_count": 18,
   "metadata": {},
   "outputs": [],
   "source": [
    "#Python can also be used for simple polls\n",
    "#example"
   ]
  },
  {
   "cell_type": "code",
   "execution_count": 23,
   "metadata": {},
   "outputs": [
    {
     "name": "stdout",
     "output_type": "stream",
     "text": [
      "Sarah's favorite language is C.\n"
     ]
    }
   ],
   "source": [
    "favorite_languages = {\n",
    "    'jen': 'python',\n",
    "    'sarah': 'c',\n",
    "    'edward':'ruby',\n",
    "    'phil': 'python',}\n",
    " \n",
    "    \n",
    "print(\"Sarah's favorite language is \" +      \n",
    "       favorite_languages['sarah'].title() +      \n",
    "       \".\")\n"
   ]
  },
  {
   "cell_type": "code",
   "execution_count": 24,
   "metadata": {},
   "outputs": [],
   "source": [
    "#Looping Logic Example"
   ]
  },
  {
   "cell_type": "code",
   "execution_count": 26,
   "metadata": {},
   "outputs": [
    {
     "name": "stdout",
     "output_type": "stream",
     "text": [
      "\n",
      "Key: username\n",
      "Value: efermi\n",
      "\n",
      "Key: first\n",
      "Value: enrico\n",
      "\n",
      "Key: last\n",
      "Value: fermi\n"
     ]
    }
   ],
   "source": [
    "user_0 = {    \n",
    "    'username': 'efermi',    \n",
    "    'first': 'enrico',    \n",
    "    'last': 'fermi',    }\n",
    "\n",
    "for key, value in user_0.items():     \n",
    "    print(\"\\nKey: \" + key) \n",
    "    print(\"Value: \" + value)\n"
   ]
  },
  {
   "cell_type": "code",
   "execution_count": 27,
   "metadata": {},
   "outputs": [],
   "source": [
    "#user_0 let's us access all the information"
   ]
  },
  {
   "cell_type": "code",
   "execution_count": 28,
   "metadata": {},
   "outputs": [],
   "source": [
    "#python loop with keyt pairs with for"
   ]
  },
  {
   "cell_type": "code",
   "execution_count": 4,
   "metadata": {},
   "outputs": [
    {
     "ename": "NameError",
     "evalue": "name 'language' is not defined",
     "output_type": "error",
     "traceback": [
      "\u001b[1;31m---------------------------------------------------------------------------\u001b[0m",
      "\u001b[1;31mNameError\u001b[0m                                 Traceback (most recent call last)",
      "\u001b[1;32m<ipython-input-4-23eaab810783>\u001b[0m in \u001b[0;36m<module>\u001b[1;34m\u001b[0m\n\u001b[0;32m      7\u001b[0m \u001b[1;32mfor\u001b[0m \u001b[0mname\u001b[0m \u001b[1;32min\u001b[0m \u001b[0mfavorite_languages\u001b[0m\u001b[1;33m.\u001b[0m\u001b[0mkeys\u001b[0m\u001b[1;33m(\u001b[0m\u001b[1;33m)\u001b[0m\u001b[1;33m:\u001b[0m\u001b[1;33m\u001b[0m\u001b[1;33m\u001b[0m\u001b[0m\n\u001b[0;32m      8\u001b[0m     print(name.title() + \"'s favorite language is \" +    \n\u001b[1;32m----> 9\u001b[1;33m         language.title() + \".\")\n\u001b[0m\u001b[0;32m     10\u001b[0m \u001b[1;33m\u001b[0m\u001b[0m\n",
      "\u001b[1;31mNameError\u001b[0m: name 'language' is not defined"
     ]
    }
   ],
   "source": [
    "favorite_languages = {    \n",
    "    'jen': 'python',    \n",
    "    'sarah': 'c',   \n",
    "    'edward': 'ruby', \n",
    "    'phil': 'python',    }\n",
    "\n",
    "for name in favorite_languages.keys():    \n",
    "    print(name.title())\n"
   ]
  },
  {
   "cell_type": "code",
   "execution_count": 12,
   "metadata": {},
   "outputs": [
    {
     "name": "stdout",
     "output_type": "stream",
     "text": [
      "Jen's favorite language is .\n",
      "Sarah's favorite language is .\n",
      "Edward's favorite language is .\n",
      "Phil's favorite language is .\n"
     ]
    }
   ],
   "source": [
    "favorite_languages = {    \n",
    "    'jen': 'python',    \n",
    "    'sarah': 'c',   \n",
    "    'edward': 'ruby', \n",
    "    'phil': 'python',    }\n",
    "\n",
    "for name in favorite_languages.keys():    \n",
    "    print(name.title() + \"'s favorite language is \" +    \".\")"
   ]
  },
  {
   "cell_type": "code",
   "execution_count": 13,
   "metadata": {},
   "outputs": [
    {
     "name": "stdout",
     "output_type": "stream",
     "text": [
      "Jen\n",
      "Sarah\n",
      "  Hi Sarah, I see your favorite language is C!\n",
      "Edward\n",
      "Phil\n",
      "  Hi Phil, I see your favorite language is Python!\n"
     ]
    }
   ],
   "source": [
    "favorite_languages = {    \n",
    "    'jen': 'python',    \n",
    "    'sarah': 'c',    \n",
    "    'edward': 'ruby',    \n",
    "    'phil': 'python',    }\n",
    "\n",
    "\n",
    "friends = ['phil', 'sarah'] \n",
    "for name in favorite_languages.keys():    \n",
    "    print(name.title())         \n",
    "    \n",
    "    if name in friends:        \n",
    "        print(\"  Hi \" + name.title() +            \n",
    "              \", I see your favorite language is \" +             \n",
    "              favorite_languages[name].title() + \"!\")"
   ]
  },
  {
   "cell_type": "code",
   "execution_count": 18,
   "metadata": {},
   "outputs": [
    {
     "name": "stdout",
     "output_type": "stream",
     "text": [
      "Jen's favorite language is Python.\n",
      "Sarah's favorite language is C.\n",
      "Edward's favorite language is Ruby.\n",
      "Phil's favorite language is Python.\n"
     ]
    }
   ],
   "source": [
    "favorite_languages = {    \n",
    "    'jen': 'python',    \n",
    "    'sarah': 'c',    \n",
    "    'edward': 'ruby',    \n",
    "    'phil': 'python',    }\n",
    "\n",
    "for name, language in favorite_languages.items():      \n",
    "    print(name.title() + \"'s favorite language is \" +       \n",
    "          language.title() + \".\")\n"
   ]
  },
  {
   "cell_type": "code",
   "execution_count": null,
   "metadata": {},
   "outputs": [],
   "source": []
  }
 ],
 "metadata": {
  "kernelspec": {
   "display_name": "Python 3",
   "language": "python",
   "name": "python3"
  },
  "language_info": {
   "codemirror_mode": {
    "name": "ipython",
    "version": 3
   },
   "file_extension": ".py",
   "mimetype": "text/x-python",
   "name": "python",
   "nbconvert_exporter": "python",
   "pygments_lexer": "ipython3",
   "version": "3.7.4"
  }
 },
 "nbformat": 4,
 "nbformat_minor": 2
}
